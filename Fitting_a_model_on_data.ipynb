{
  "nbformat": 4,
  "nbformat_minor": 0,
  "metadata": {
    "colab": {
      "provenance": []
    },
    "kernelspec": {
      "name": "python3",
      "display_name": "Python 3"
    },
    "language_info": {
      "name": "python"
    }
  },
  "cells": [
    {
      "cell_type": "markdown",
      "source": [
        "### We have a meassured brightness in filters Ks, H and J as a function of radius from the center of a Galaxy.  \n",
        "- We going to plot log(th) vs r\"\n",
        "- We going to Add an exponential  of the form  I = Io exp(-r/ro) + B,  that fits the brightness well at large radii with Io, ro and B constants."
      ],
      "metadata": {
        "id": "e5FxbI320ol9"
      }
    },
    {
      "cell_type": "code",
      "execution_count": 1,
      "metadata": {
        "colab": {
          "base_uri": "https://localhost:8080/"
        },
        "id": "azgEBQC0l5iq",
        "outputId": "0a308d3b-5b91-4037-f25e-aee234c9b4e3"
      },
      "outputs": [
        {
          "output_type": "stream",
          "name": "stdout",
          "text": [
            "Mounted at /content/gdrive\n"
          ]
        }
      ],
      "source": [
        "# import the libraries\n",
        "import numpy as np\n",
        "import matplotlib.pyplot as plt\n",
        "import pandas as pd\n",
        "from scipy.optimize import curve_fit\n",
        "from sklearn.metrics import r2_score\n",
        "from google.colab import drive\n",
        "drive.mount('/content/gdrive')"
      ]
    },
    {
      "cell_type": "code",
      "source": [
        "# read the dataset from google drive\n",
        "data = pd.read_csv('/content/gdrive/MyDrive/Python/jhk.txt', delim_whitespace=True )\n",
        "# Filters out rows from the DataFrame where the value of 'th' is 'INDEF'\n",
        "data = data[data['th'] != 'INDEF']\n",
        "# desplay the first five entries in data\n",
        "data.head()"
      ],
      "metadata": {
        "id": "h0-Jvto6l7Ej"
      },
      "execution_count": null,
      "outputs": []
    },
    {
      "cell_type": "code",
      "source": [
        "# convert the dataset from object into float\n",
        "data['th'] = data['th'].astype(float)\n",
        "# Creates a new column 'log_th' by taking the natural logarithm of the 'th' column\n",
        "data['log_th'] = np.log(data['th'])\n",
        "data.head()"
      ],
      "metadata": {
        "id": "bLXz3rgel7O5",
        "colab": {
          "base_uri": "https://localhost:8080/",
          "height": 204
        },
        "outputId": "0ef100dd-2592-4097-8971-c553a8d66ed7"
      },
      "execution_count": 11,
      "outputs": [
        {
          "output_type": "execute_result",
          "data": {
            "text/plain": [
              "   (row)     r     r\"      tk      th    tj    log_th\n",
              "0      1  0.30  0.195  4059.0  3251.0  604.  8.086718\n",
              "1      2  0.33  0.215  4055.0  3248.0  604.  8.085795\n",
              "2      3  0.36  0.236  4051.0  3244.0  604.  8.084562\n",
              "3      4  0.40  0.260  4046.0  3240.0  603.  8.083329\n",
              "4      5  0.44  0.286  4040.0  3235.0  602.  8.081784"
            ],
            "text/html": [
              "\n",
              "  <div id=\"df-2744b06c-b615-4542-b8ee-24dd250ec75a\" class=\"colab-df-container\">\n",
              "    <div>\n",
              "<style scoped>\n",
              "    .dataframe tbody tr th:only-of-type {\n",
              "        vertical-align: middle;\n",
              "    }\n",
              "\n",
              "    .dataframe tbody tr th {\n",
              "        vertical-align: top;\n",
              "    }\n",
              "\n",
              "    .dataframe thead th {\n",
              "        text-align: right;\n",
              "    }\n",
              "</style>\n",
              "<table border=\"1\" class=\"dataframe\">\n",
              "  <thead>\n",
              "    <tr style=\"text-align: right;\">\n",
              "      <th></th>\n",
              "      <th>(row)</th>\n",
              "      <th>r</th>\n",
              "      <th>r\"</th>\n",
              "      <th>tk</th>\n",
              "      <th>th</th>\n",
              "      <th>tj</th>\n",
              "      <th>log_th</th>\n",
              "    </tr>\n",
              "  </thead>\n",
              "  <tbody>\n",
              "    <tr>\n",
              "      <th>0</th>\n",
              "      <td>1</td>\n",
              "      <td>0.30</td>\n",
              "      <td>0.195</td>\n",
              "      <td>4059.0</td>\n",
              "      <td>3251.0</td>\n",
              "      <td>604.</td>\n",
              "      <td>8.086718</td>\n",
              "    </tr>\n",
              "    <tr>\n",
              "      <th>1</th>\n",
              "      <td>2</td>\n",
              "      <td>0.33</td>\n",
              "      <td>0.215</td>\n",
              "      <td>4055.0</td>\n",
              "      <td>3248.0</td>\n",
              "      <td>604.</td>\n",
              "      <td>8.085795</td>\n",
              "    </tr>\n",
              "    <tr>\n",
              "      <th>2</th>\n",
              "      <td>3</td>\n",
              "      <td>0.36</td>\n",
              "      <td>0.236</td>\n",
              "      <td>4051.0</td>\n",
              "      <td>3244.0</td>\n",
              "      <td>604.</td>\n",
              "      <td>8.084562</td>\n",
              "    </tr>\n",
              "    <tr>\n",
              "      <th>3</th>\n",
              "      <td>4</td>\n",
              "      <td>0.40</td>\n",
              "      <td>0.260</td>\n",
              "      <td>4046.0</td>\n",
              "      <td>3240.0</td>\n",
              "      <td>603.</td>\n",
              "      <td>8.083329</td>\n",
              "    </tr>\n",
              "    <tr>\n",
              "      <th>4</th>\n",
              "      <td>5</td>\n",
              "      <td>0.44</td>\n",
              "      <td>0.286</td>\n",
              "      <td>4040.0</td>\n",
              "      <td>3235.0</td>\n",
              "      <td>602.</td>\n",
              "      <td>8.081784</td>\n",
              "    </tr>\n",
              "  </tbody>\n",
              "</table>\n",
              "</div>\n",
              "    <div class=\"colab-df-buttons\">\n",
              "\n",
              "  <div class=\"colab-df-container\">\n",
              "    <button class=\"colab-df-convert\" onclick=\"convertToInteractive('df-2744b06c-b615-4542-b8ee-24dd250ec75a')\"\n",
              "            title=\"Convert this dataframe to an interactive table.\"\n",
              "            style=\"display:none;\">\n",
              "\n",
              "  <svg xmlns=\"http://www.w3.org/2000/svg\" height=\"24px\" viewBox=\"0 -960 960 960\">\n",
              "    <path d=\"M120-120v-720h720v720H120Zm60-500h600v-160H180v160Zm220 220h160v-160H400v160Zm0 220h160v-160H400v160ZM180-400h160v-160H180v160Zm440 0h160v-160H620v160ZM180-180h160v-160H180v160Zm440 0h160v-160H620v160Z\"/>\n",
              "  </svg>\n",
              "    </button>\n",
              "\n",
              "  <style>\n",
              "    .colab-df-container {\n",
              "      display:flex;\n",
              "      gap: 12px;\n",
              "    }\n",
              "\n",
              "    .colab-df-convert {\n",
              "      background-color: #E8F0FE;\n",
              "      border: none;\n",
              "      border-radius: 50%;\n",
              "      cursor: pointer;\n",
              "      display: none;\n",
              "      fill: #1967D2;\n",
              "      height: 32px;\n",
              "      padding: 0 0 0 0;\n",
              "      width: 32px;\n",
              "    }\n",
              "\n",
              "    .colab-df-convert:hover {\n",
              "      background-color: #E2EBFA;\n",
              "      box-shadow: 0px 1px 2px rgba(60, 64, 67, 0.3), 0px 1px 3px 1px rgba(60, 64, 67, 0.15);\n",
              "      fill: #174EA6;\n",
              "    }\n",
              "\n",
              "    .colab-df-buttons div {\n",
              "      margin-bottom: 4px;\n",
              "    }\n",
              "\n",
              "    [theme=dark] .colab-df-convert {\n",
              "      background-color: #3B4455;\n",
              "      fill: #D2E3FC;\n",
              "    }\n",
              "\n",
              "    [theme=dark] .colab-df-convert:hover {\n",
              "      background-color: #434B5C;\n",
              "      box-shadow: 0px 1px 3px 1px rgba(0, 0, 0, 0.15);\n",
              "      filter: drop-shadow(0px 1px 2px rgba(0, 0, 0, 0.3));\n",
              "      fill: #FFFFFF;\n",
              "    }\n",
              "  </style>\n",
              "\n",
              "    <script>\n",
              "      const buttonEl =\n",
              "        document.querySelector('#df-2744b06c-b615-4542-b8ee-24dd250ec75a button.colab-df-convert');\n",
              "      buttonEl.style.display =\n",
              "        google.colab.kernel.accessAllowed ? 'block' : 'none';\n",
              "\n",
              "      async function convertToInteractive(key) {\n",
              "        const element = document.querySelector('#df-2744b06c-b615-4542-b8ee-24dd250ec75a');\n",
              "        const dataTable =\n",
              "          await google.colab.kernel.invokeFunction('convertToInteractive',\n",
              "                                                    [key], {});\n",
              "        if (!dataTable) return;\n",
              "\n",
              "        const docLinkHtml = 'Like what you see? Visit the ' +\n",
              "          '<a target=\"_blank\" href=https://colab.research.google.com/notebooks/data_table.ipynb>data table notebook</a>'\n",
              "          + ' to learn more about interactive tables.';\n",
              "        element.innerHTML = '';\n",
              "        dataTable['output_type'] = 'display_data';\n",
              "        await google.colab.output.renderOutput(dataTable, element);\n",
              "        const docLink = document.createElement('div');\n",
              "        docLink.innerHTML = docLinkHtml;\n",
              "        element.appendChild(docLink);\n",
              "      }\n",
              "    </script>\n",
              "  </div>\n",
              "\n",
              "\n",
              "<div id=\"df-f6305261-bf4d-45ca-b384-8a98b9ba8e5f\">\n",
              "  <button class=\"colab-df-quickchart\" onclick=\"quickchart('df-f6305261-bf4d-45ca-b384-8a98b9ba8e5f')\"\n",
              "            title=\"Suggest charts\"\n",
              "            style=\"display:none;\">\n",
              "\n",
              "<svg xmlns=\"http://www.w3.org/2000/svg\" height=\"24px\"viewBox=\"0 0 24 24\"\n",
              "     width=\"24px\">\n",
              "    <g>\n",
              "        <path d=\"M19 3H5c-1.1 0-2 .9-2 2v14c0 1.1.9 2 2 2h14c1.1 0 2-.9 2-2V5c0-1.1-.9-2-2-2zM9 17H7v-7h2v7zm4 0h-2V7h2v10zm4 0h-2v-4h2v4z\"/>\n",
              "    </g>\n",
              "</svg>\n",
              "  </button>\n",
              "\n",
              "<style>\n",
              "  .colab-df-quickchart {\n",
              "      --bg-color: #E8F0FE;\n",
              "      --fill-color: #1967D2;\n",
              "      --hover-bg-color: #E2EBFA;\n",
              "      --hover-fill-color: #174EA6;\n",
              "      --disabled-fill-color: #AAA;\n",
              "      --disabled-bg-color: #DDD;\n",
              "  }\n",
              "\n",
              "  [theme=dark] .colab-df-quickchart {\n",
              "      --bg-color: #3B4455;\n",
              "      --fill-color: #D2E3FC;\n",
              "      --hover-bg-color: #434B5C;\n",
              "      --hover-fill-color: #FFFFFF;\n",
              "      --disabled-bg-color: #3B4455;\n",
              "      --disabled-fill-color: #666;\n",
              "  }\n",
              "\n",
              "  .colab-df-quickchart {\n",
              "    background-color: var(--bg-color);\n",
              "    border: none;\n",
              "    border-radius: 50%;\n",
              "    cursor: pointer;\n",
              "    display: none;\n",
              "    fill: var(--fill-color);\n",
              "    height: 32px;\n",
              "    padding: 0;\n",
              "    width: 32px;\n",
              "  }\n",
              "\n",
              "  .colab-df-quickchart:hover {\n",
              "    background-color: var(--hover-bg-color);\n",
              "    box-shadow: 0 1px 2px rgba(60, 64, 67, 0.3), 0 1px 3px 1px rgba(60, 64, 67, 0.15);\n",
              "    fill: var(--button-hover-fill-color);\n",
              "  }\n",
              "\n",
              "  .colab-df-quickchart-complete:disabled,\n",
              "  .colab-df-quickchart-complete:disabled:hover {\n",
              "    background-color: var(--disabled-bg-color);\n",
              "    fill: var(--disabled-fill-color);\n",
              "    box-shadow: none;\n",
              "  }\n",
              "\n",
              "  .colab-df-spinner {\n",
              "    border: 2px solid var(--fill-color);\n",
              "    border-color: transparent;\n",
              "    border-bottom-color: var(--fill-color);\n",
              "    animation:\n",
              "      spin 1s steps(1) infinite;\n",
              "  }\n",
              "\n",
              "  @keyframes spin {\n",
              "    0% {\n",
              "      border-color: transparent;\n",
              "      border-bottom-color: var(--fill-color);\n",
              "      border-left-color: var(--fill-color);\n",
              "    }\n",
              "    20% {\n",
              "      border-color: transparent;\n",
              "      border-left-color: var(--fill-color);\n",
              "      border-top-color: var(--fill-color);\n",
              "    }\n",
              "    30% {\n",
              "      border-color: transparent;\n",
              "      border-left-color: var(--fill-color);\n",
              "      border-top-color: var(--fill-color);\n",
              "      border-right-color: var(--fill-color);\n",
              "    }\n",
              "    40% {\n",
              "      border-color: transparent;\n",
              "      border-right-color: var(--fill-color);\n",
              "      border-top-color: var(--fill-color);\n",
              "    }\n",
              "    60% {\n",
              "      border-color: transparent;\n",
              "      border-right-color: var(--fill-color);\n",
              "    }\n",
              "    80% {\n",
              "      border-color: transparent;\n",
              "      border-right-color: var(--fill-color);\n",
              "      border-bottom-color: var(--fill-color);\n",
              "    }\n",
              "    90% {\n",
              "      border-color: transparent;\n",
              "      border-bottom-color: var(--fill-color);\n",
              "    }\n",
              "  }\n",
              "</style>\n",
              "\n",
              "  <script>\n",
              "    async function quickchart(key) {\n",
              "      const quickchartButtonEl =\n",
              "        document.querySelector('#' + key + ' button');\n",
              "      quickchartButtonEl.disabled = true;  // To prevent multiple clicks.\n",
              "      quickchartButtonEl.classList.add('colab-df-spinner');\n",
              "      try {\n",
              "        const charts = await google.colab.kernel.invokeFunction(\n",
              "            'suggestCharts', [key], {});\n",
              "      } catch (error) {\n",
              "        console.error('Error during call to suggestCharts:', error);\n",
              "      }\n",
              "      quickchartButtonEl.classList.remove('colab-df-spinner');\n",
              "      quickchartButtonEl.classList.add('colab-df-quickchart-complete');\n",
              "    }\n",
              "    (() => {\n",
              "      let quickchartButtonEl =\n",
              "        document.querySelector('#df-f6305261-bf4d-45ca-b384-8a98b9ba8e5f button');\n",
              "      quickchartButtonEl.style.display =\n",
              "        google.colab.kernel.accessAllowed ? 'block' : 'none';\n",
              "    })();\n",
              "  </script>\n",
              "</div>\n",
              "    </div>\n",
              "  </div>\n"
            ]
          },
          "metadata": {},
          "execution_count": 11
        }
      ]
    },
    {
      "cell_type": "code",
      "source": [
        "# Plotting the results\n",
        "plt.scatter(data['r\"'], data['log_th'], label='Data', marker='o', color='blue')\n",
        "plt.xlabel('r\" ')\n",
        "plt.ylabel('log(th)')\n",
        "plt.legend()\n",
        "plt.title('Logarithm of th vs. r\" ')\n",
        "plt.show()"
      ],
      "metadata": {
        "colab": {
          "base_uri": "https://localhost:8080/",
          "height": 472
        },
        "id": "yZsI2OSO7uxN",
        "outputId": "f38df091-60c0-459f-c169-947cd6c89be1"
      },
      "execution_count": 12,
      "outputs": [
        {
          "output_type": "display_data",
          "data": {
            "text/plain": [
              "<Figure size 640x480 with 1 Axes>"
            ],
            "image/png": "[encoded data removed]"
          },
          "metadata": {}
        }
      ]
    },
    {
      "cell_type": "code",
      "source": [
        "# Defines a tuple representing a range of radii\n",
        "radii_range = (10, 100)\n",
        "# Selects rows from the DataFrame where the 'r\"' values are within the defined range\n",
        "optim_large_radii = data[(data['r\"'] >= radii_range[0]) & (data['r\"'] <= radii_range[1])]\n"
      ],
      "metadata": {
        "id": "857Hy8NXl7Ro"
      },
      "execution_count": 13,
      "outputs": []
    },
    {
      "cell_type": "code",
      "source": [
        "# Defines a function exp_func which represents an exponential model\n",
        "def exp_func(r, Io, ro, B):\n",
        "    I = Io * np.exp(-r / ro) + B\n",
        "    return I"
      ],
      "metadata": {
        "id": "f7u85j7Bl7UP"
      },
      "execution_count": 14,
      "outputs": []
    },
    {
      "cell_type": "code",
      "source": [
        "# Gets the maximum value of 'log_th' as an initial guess for Ig\n",
        "Ig = max(data['log_th'])\n",
        "# Gets the minimum value of 'log_th' as an initial guess for Bg\n",
        "Bg = min(data['log_th'])\n",
        "# Sets an initial guess value\n",
        "rg = 5\n"
      ],
      "metadata": {
        "id": "4uVfkEFKl7Wk"
      },
      "execution_count": 15,
      "outputs": []
    },
    {
      "cell_type": "code",
      "source": [
        "# Uses the curve_fit function to fit the exp_func to the 'r\"' and 'log_th' data from optim_large_radii.\n",
        "# parms contains the best fit parameters, and cov is the covariance of parms\n",
        "parms, cov = curve_fit(exp_func, optim_large_radii['r\"'], optim_large_radii['log_th'])\n",
        "# Extracts the fitted parameters from parms\n",
        "Io_fit, ro_fit, B_fit = parms\n",
        "# Creates 1000 evenly spaced values between the minimum and maximum of 'r\"'\n",
        "r_fit = np.linspace(min(data['r\"']), max(data['r\"']), 1000)\n",
        "# Uses the fitted model to predict 'log_th' values for r_fit.\n",
        "log_th_fit = exp_func(r_fit, Io_fit, ro_fit, B_fit)\n",
        "print(parms)"
      ],
      "metadata": {
        "colab": {
          "base_uri": "https://localhost:8080/"
        },
        "id": "1r5llgOyl7Zb",
        "outputId": "a2ae9dd0-10ce-4ddb-db70-e4909aaea072"
      },
      "execution_count": 16,
      "outputs": [
        {
          "output_type": "stream",
          "name": "stdout",
          "text": [
            "[ 3.5844454  47.96231457  2.67810341]\n"
          ]
        }
      ]
    },
    {
      "cell_type": "code",
      "source": [
        "# Plotting the results\n",
        "plt.scatter(data['r\"'], data['log_th'], label='Data', marker='o', color='blue')\n",
        "plt.plot(r_fit, log_th_fit, label='Model', color='red')\n",
        "plt.xlabel('r\" ')\n",
        "plt.ylabel('log(th)')\n",
        "plt.legend()\n",
        "plt.title('Logarithm of th vs. r\" with Fitted Exponential')\n",
        "plt.show()\n"
      ],
      "metadata": {
        "colab": {
          "base_uri": "https://localhost:8080/",
          "height": 472
        },
        "id": "r-OBGmwimXaQ",
        "outputId": "df4182b4-e2fb-4b75-e438-973dad3d7067"
      },
      "execution_count": 17,
      "outputs": [
        {
          "output_type": "display_data",
          "data": {
            "text/plain": [
              "<Figure size 640x480 with 1 Axes>"
            ],
            "image/png": "[encoded data removed]"
          },
          "metadata": {}
        }
      ]
    },
    {
      "cell_type": "code",
      "source": [],
      "metadata": {
        "id": "f-YSKbpamXdV"
      },
      "execution_count": 17,
      "outputs": []
    },
    {
      "cell_type": "code",
      "source": [],
      "metadata": {
        "id": "2-lhMlmVoA4I"
      },
      "execution_count": null,
      "outputs": []
    }
  ]
}